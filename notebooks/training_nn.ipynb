{
 "cells": [
  {
   "cell_type": "code",
   "execution_count": 1,
   "metadata": {},
   "outputs": [],
   "source": [
    "import pandas as pd\n",
    "import tensorflow as tf"
   ]
  },
  {
   "cell_type": "code",
   "execution_count": null,
   "metadata": {},
   "outputs": [],
   "source": [
    "def test_nn_model():\n",
    "    "
   ]
  },
  {
   "cell_type": "code",
   "execution_count": 2,
   "metadata": {},
   "outputs": [],
   "source": [
    "params =  {\n",
    "    'dense1':64,\n",
    "    'drop1':0.1,\n",
    "    'dense2':64,\n",
    "    'drop2':0.1,\n",
    "    'dense3':64,\n",
    "    'drop3':0.1,\n",
    "    'dense4':64,\n",
    "    'drop4':0.1,\n",
    "    'dense5':64,\n",
    "    'drop5':0.1,\n",
    "    'dense6':64,\n",
    "    'drop6':0.1,\n",
    "}"
   ]
  },
  {
   "cell_type": "code",
   "execution_count": null,
   "metadata": {},
   "outputs": [],
   "source": [
    "history = []\n",
    "for sample_size in [1000,2000,5000,8000,10000,15000,20000,30000]:\n",
    "    X_train,X_val,y_train,y_val = load_data(path,sample_size)\n",
    "    model = make_model(params)\n",
    "    history = model.fit(X_train, y_train, batch_size=128, epochs=100, validation_data=(X_val, y_val), \n",
    "        callbacks=[tf.keras.callbacks.EarlyStopping(monitor='val_loss', patience=5, restore_best_weights=False)])\n",
    "    test_nn_model(model)"
   ]
  }
 ],
 "metadata": {
  "kernelspec": {
   "display_name": "Python 3",
   "language": "python",
   "name": "python3"
  },
  "language_info": {
   "codemirror_mode": {
    "name": "ipython",
    "version": 3
   },
   "file_extension": ".py",
   "mimetype": "text/x-python",
   "name": "python",
   "nbconvert_exporter": "python",
   "pygments_lexer": "ipython3",
   "version": "3.9.7"
  },
  "orig_nbformat": 4
 },
 "nbformat": 4,
 "nbformat_minor": 2
}
